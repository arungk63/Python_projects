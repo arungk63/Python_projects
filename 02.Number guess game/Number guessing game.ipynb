{
 "cells": [
  {
   "cell_type": "markdown",
   "id": "87ff8207",
   "metadata": {},
   "source": [
    "### Number guessing game in Python 3\n",
    "\n",
    "* Build a Number guessing game, in which the user selects a range.\n",
    "* Let’s say User selected a range, i.e., from A to B, where A and B belong to Integer.\n",
    "* Some random integer will be selected by the system and the user has to guess that integer in the minimum number of guesses"
   ]
  },
  {
   "cell_type": "code",
   "execution_count": null,
   "id": "761bbf7f",
   "metadata": {},
   "outputs": [],
   "source": [
    "#taking range input from the user\n",
    "\n",
    "a = int(input(\"Enter the lower range: \"))\n",
    "b = int(input(\"Enter the upper range: \"))\n",
    "\n",
    "#Setting the random interger in the used given input range \n",
    "\n",
    "import random \n",
    "r = random.randint(a,b)\n",
    "#print (r)\n",
    "\n",
    "#While look for 10 try and print the result\n",
    "\n",
    "n = 1\n",
    "\n",
    "while n <=10:\n",
    "    k = int(input('Enter your guess : '))\n",
    "    if k > r:\n",
    "        print('Try Again! You guessed too high')\n",
    "    elif k <r:\n",
    "        print('Try Again! You guessed too low')\n",
    "    elif k == r:\n",
    "        print(f'Yes you did it....!! the corect answer is {r} and you gussed it in the {n}th attempt')\n",
    "        break\n",
    "    n= n+1\n",
    "print('\\n')\n",
    "#Message when chances are done\n",
    "if n >= 10:\n",
    "    print('oops!!!  your chances are over Try again')"
   ]
  },
  {
   "cell_type": "code",
   "execution_count": null,
   "id": "b4e42c17",
   "metadata": {},
   "outputs": [],
   "source": []
  }
 ],
 "metadata": {
  "kernelspec": {
   "display_name": "Python 3 (ipykernel)",
   "language": "python",
   "name": "python3"
  },
  "language_info": {
   "codemirror_mode": {
    "name": "ipython",
    "version": 3
   },
   "file_extension": ".py",
   "mimetype": "text/x-python",
   "name": "python",
   "nbconvert_exporter": "python",
   "pygments_lexer": "ipython3",
   "version": "3.9.12"
  }
 },
 "nbformat": 4,
 "nbformat_minor": 5
}
